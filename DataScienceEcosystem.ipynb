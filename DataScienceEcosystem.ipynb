{
 "cells": [
  {
   "cell_type": "markdown",
   "id": "6b7cf2a0",
   "metadata": {},
   "source": [
    "# Data Science Tools and Ecosystem"
   ]
  },
  {
   "cell_type": "markdown",
   "id": "1a513a4f",
   "metadata": {},
   "source": [
    "# In this Nootebook , Data Science Tools and Ecosystem are Summarized."
   ]
  },
  {
   "cell_type": "markdown",
   "id": "b48c6275",
   "metadata": {},
   "source": [
    "### Objectives"
   ]
  },
  {
   "cell_type": "markdown",
   "id": "73d9eb5b",
   "metadata": {},
   "source": [
    "_This Course has too much information about Data science ATools Languages Libraries_"
   ]
  },
  {
   "cell_type": "markdown",
   "id": "b8323490",
   "metadata": {},
   "source": [
    "* Most Important Languages\n",
    "* Use Of languages\n",
    "* Basic Structue Of Different Open Source Tools For Data Science\n",
    "* Practicale Experience of Tools"
   ]
  },
  {
   "cell_type": "markdown",
   "id": "decb4437",
   "metadata": {},
   "source": [
    "Popular Laguages that Data Scientist uses are\n",
    "1. Python\n",
    "2. R\n",
    "3. SQL\n",
    "4. Java\n",
    "5. C++"
   ]
  },
  {
   "cell_type": "markdown",
   "id": "1a246272",
   "metadata": {},
   "source": [
    "Following are the most common Libraries used by Data Scientist:\n",
    "1. Panda (Scructural & Dqata Cleaning).\n",
    "2. Matplotlib (Data Visualization).\n",
    "3. Scikit-Learn (Machine Learning).\n",
    "4. Tensorflow (Deep Learning).\n",
    "5. Appache Spark (General Puprpose Cluster Computing).\n",
    "6. Scala."
   ]
  },
  {
   "cell_type": "markdown",
   "id": "1bb59a83",
   "metadata": {},
   "source": [
    "|Sr.No|-|Data Science Tools|\n",
    "|-----|-|-------------|\n",
    "|1||Anaconda Navigator|\n",
    "|2||RStudio|\n",
    "|3||Jupyter Notebook|"
   ]
  },
  {
   "cell_type": "markdown",
   "id": "87ac6066",
   "metadata": {},
   "source": [
    "### Below are a few examples of Evaluating arithmetic expressions in Python\n"
   ]
  },
  {
   "cell_type": "markdown",
   "id": "1604e1f7",
   "metadata": {},
   "source": [
    "Addition\n",
    "Subtraction\n",
    "Division\n",
    "Multiplication"
   ]
  },
  {
   "cell_type": "code",
   "execution_count": 2,
   "id": "0493e712",
   "metadata": {},
   "outputs": [
    {
     "data": {
      "text/plain": [
       "4"
      ]
     },
     "execution_count": 2,
     "metadata": {},
     "output_type": "execute_result"
    }
   ],
   "source": [
    "# Following is the simple Addition Arithmetic Expression\n",
    "2+2"
   ]
  },
  {
   "cell_type": "code",
   "execution_count": 3,
   "id": "dcac8c91",
   "metadata": {},
   "outputs": [
    {
     "data": {
      "text/plain": [
       "17"
      ]
     },
     "execution_count": 3,
     "metadata": {},
     "output_type": "execute_result"
    }
   ],
   "source": [
    "# Following is the given \n",
    "(3*4)+5"
   ]
  },
  {
   "cell_type": "code",
   "execution_count": 6,
   "id": "2d95ed80",
   "metadata": {},
   "outputs": [
    {
     "name": "stdout",
     "output_type": "stream",
     "text": [
      "3.3333333333333335\n"
     ]
    }
   ],
   "source": [
    "#This will convert 200 minutes to hours by diving by 60\n",
    "min=200\n",
    "hr=60\n",
    "total_hr=min/hr\n",
    "print(total_hr)"
   ]
  },
  {
   "cell_type": "markdown",
   "id": "8a19bbbe",
   "metadata": {},
   "source": [
    "## Aurthor\n",
    "Usman Sabir"
   ]
  }
 ],
 "metadata": {
  "kernelspec": {
   "display_name": "Python 3 (ipykernel)",
   "language": "python",
   "name": "python3"
  },
  "language_info": {
   "codemirror_mode": {
    "name": "ipython",
    "version": 3
   },
   "file_extension": ".py",
   "mimetype": "text/x-python",
   "name": "python",
   "nbconvert_exporter": "python",
   "pygments_lexer": "ipython3",
   "version": "3.11.3"
  }
 },
 "nbformat": 4,
 "nbformat_minor": 5
}
